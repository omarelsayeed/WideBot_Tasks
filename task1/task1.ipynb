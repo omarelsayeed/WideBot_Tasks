{
 "cells": [
  {
   "cell_type": "code",
   "execution_count": 42,
   "metadata": {},
   "outputs": [
    {
     "name": "stdout",
     "output_type": "stream",
     "text": [
      "Nearest words for 'aberration': ['aberration', 'aberrational', 'aberrations']\n"
     ]
    }
   ],
   "source": [
    "class TrieNode:\n",
    "    def __init__(self):\n",
    "        \"\"\"\n",
    "        The Trie Data structure : storing a dictionary of children nodes and a boolean flag to indicate the end of a word\n",
    "        the dictionaly is {\"a\" : children}\n",
    "        \"\"\"\n",
    "        self.children = {}\n",
    "        self.is_end_of_word = False\n",
    "\n",
    "class SpellChecker:\n",
    "    def __init__(self, dictionary):\n",
    "        self.root = TrieNode()\n",
    "        for word in dictionary: # insert all words in the dictionary at first\n",
    "            self._insert_word(word)\n",
    "\n",
    "    def _insert_word(self, word):\n",
    "        node = self.root\n",
    "        for char in word:\n",
    "            if char not in node.children: # if the char is not in the children, add it\n",
    "                node.children[char] = TrieNode()\n",
    "            node = node.children[char]\n",
    "        node.is_end_of_word = True # mark the end of the word\n",
    "\n",
    "    def _find_nearest_words(self, node, prefix, result):\n",
    "        if len(result) >= 4:\n",
    "            return\n",
    "\n",
    "        if node.is_end_of_word: # if the node is the end of the word, add it to the result\n",
    "            result.append(prefix)\n",
    "\n",
    "        for char in sorted(node.children.keys()): # for every character in the children , add it to the prefix and call the function again\n",
    "            self._find_nearest_words(node.children[char], prefix + char, result)\n",
    "\n",
    "    def find_nearest_words(self, word):\n",
    "        node = self.root\n",
    "        prefix = \"\"\n",
    "        for char in word:\n",
    "            if char not in node.children:\n",
    "                return [] # if the char is not in the children, return empty list\n",
    "            node = node.children[char] # if the char is in the children, add it to the prefix and continue\n",
    "            prefix += char\n",
    "\n",
    "        nearest_words = []\n",
    "        self._find_nearest_words(node, prefix, nearest_words) # find the nearest words to the prefix\n",
    "        return nearest_words\n",
    "\n",
    "    def add_word(self, word):\n",
    "        self._insert_word(word)\n",
    "\n",
    "# Example usage:\n",
    "if __name__ == \"__main__\":\n",
    "    file_path = \"dictionary.txt\"\n",
    "    encoding = \"latin-1\"  # Replace with the appropriate encoding if needed\n",
    "\n",
    "    with open(file_path, \"r\", encoding=encoding) as file:\n",
    "        dictionary = file.read().splitlines()\n",
    "\n",
    "    spell_checker = SpellChecker(dictionary)\n",
    "    # Find nearest words for a misspelled word\n",
    "    input_word = \"aberration\"\n",
    "    nearest_words = spell_checker.find_nearest_words(input_word)\n",
    "    print(f\"Nearest words for '{input_word}': {nearest_words}\")"
   ]
  },
  {
   "cell_type": "code",
   "execution_count": null,
   "metadata": {},
   "outputs": [],
   "source": []
  }
 ],
 "metadata": {
  "kernelspec": {
   "display_name": "base",
   "language": "python",
   "name": "python3"
  },
  "language_info": {
   "codemirror_mode": {
    "name": "ipython",
    "version": 3
   },
   "file_extension": ".py",
   "mimetype": "text/x-python",
   "name": "python",
   "nbconvert_exporter": "python",
   "pygments_lexer": "ipython3",
   "version": "3.8.5"
  },
  "orig_nbformat": 4
 },
 "nbformat": 4,
 "nbformat_minor": 2
}
